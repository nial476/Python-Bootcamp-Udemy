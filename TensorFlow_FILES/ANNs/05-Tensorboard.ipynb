{
 "cells": [
  {
   "cell_type": "markdown",
   "metadata": {},
   "source": [
    "<a href=\"https://www.pieriandata.com\"><img src=\"../Pierian_Data_Logo.PNG\"></a>\n",
    "<strong><center>Copyright by Pierian Data Inc.</center></strong> \n",
    "<strong><center>Created by Jose Marcial Portilla.</center></strong>"
   ]
  },
  {
   "cell_type": "markdown",
   "metadata": {},
   "source": [
    "# Tensorboard\n",
    "\n",
    "---\n",
    "---\n",
    "\n",
    "**NOTE: You must watch the corresponding video to understand this lecture. This notebook can't serve as a full guide. Please watch the video BEFORE posting questions to the QA forum.**\n",
    "\n",
    "---\n",
    "---\n",
    "\n",
    "Let's explore the built in data visualization capabilities that come with Tensorboard.\n",
    "\n",
    "Full official tutorial available here: https://www.tensorflow.org/tensorboard/get_started\n",
    "\n",
    "## Data"
   ]
  },
  {
   "cell_type": "code",
   "execution_count": 1,
   "metadata": {},
   "outputs": [],
   "source": [
    "import pandas as pd\n",
    "import numpy as np"
   ]
  },
  {
   "cell_type": "code",
   "execution_count": 2,
   "metadata": {},
   "outputs": [],
   "source": [
    "df = pd.read_csv('../DATA/cancer_classification.csv')"
   ]
  },
  {
   "cell_type": "markdown",
   "metadata": {},
   "source": [
    "### Train Test Split"
   ]
  },
  {
   "cell_type": "code",
   "execution_count": 3,
   "metadata": {},
   "outputs": [],
   "source": [
    "X = df.drop('benign_0__mal_1',axis=1).values\n",
    "y = df['benign_0__mal_1'].values"
   ]
  },
  {
   "cell_type": "code",
   "execution_count": 4,
   "metadata": {},
   "outputs": [],
   "source": [
    "from sklearn.model_selection import train_test_split"
   ]
  },
  {
   "cell_type": "code",
   "execution_count": 5,
   "metadata": {},
   "outputs": [],
   "source": [
    "X_train, X_test, y_train, y_test = train_test_split(X,y,test_size=0.25,random_state=101)"
   ]
  },
  {
   "cell_type": "markdown",
   "metadata": {},
   "source": [
    "\n",
    "### Scaling Data"
   ]
  },
  {
   "cell_type": "code",
   "execution_count": 6,
   "metadata": {},
   "outputs": [],
   "source": [
    "from sklearn.preprocessing import MinMaxScaler"
   ]
  },
  {
   "cell_type": "code",
   "execution_count": 7,
   "metadata": {},
   "outputs": [],
   "source": [
    "scaler = MinMaxScaler()"
   ]
  },
  {
   "cell_type": "code",
   "execution_count": 8,
   "metadata": {},
   "outputs": [
    {
     "data": {
      "text/plain": [
       "MinMaxScaler()"
      ]
     },
     "execution_count": 8,
     "metadata": {},
     "output_type": "execute_result"
    }
   ],
   "source": [
    "scaler.fit(X_train)"
   ]
  },
  {
   "cell_type": "code",
   "execution_count": 9,
   "metadata": {},
   "outputs": [],
   "source": [
    "X_train = scaler.transform(X_train)\n",
    "X_test = scaler.transform(X_test)"
   ]
  },
  {
   "cell_type": "markdown",
   "metadata": {},
   "source": [
    "## Creating the Model"
   ]
  },
  {
   "cell_type": "code",
   "execution_count": 10,
   "metadata": {},
   "outputs": [],
   "source": [
    "import tensorflow as tf\n",
    "from tensorflow.keras.models import Sequential\n",
    "from tensorflow.keras.layers import Dense, Activation,Dropout"
   ]
  },
  {
   "cell_type": "code",
   "execution_count": 11,
   "metadata": {},
   "outputs": [],
   "source": [
    "from tensorflow.keras.callbacks import EarlyStopping,TensorBoard"
   ]
  },
  {
   "cell_type": "code",
   "execution_count": 12,
   "metadata": {},
   "outputs": [],
   "source": [
    "early_stop = EarlyStopping(monitor='val_loss', mode='min', verbose=1, patience=25)"
   ]
  },
  {
   "cell_type": "code",
   "execution_count": 13,
   "metadata": {},
   "outputs": [
    {
     "data": {
      "text/plain": [
       "'D:\\\\Project\\\\Python\\\\Refactored_Py_DS_ML_Bootcamp-master\\\\TensorFlow_FILES\\\\ANNs'"
      ]
     },
     "execution_count": 13,
     "metadata": {},
     "output_type": "execute_result"
    }
   ],
   "source": [
    "pwd"
   ]
  },
  {
   "cell_type": "markdown",
   "metadata": {},
   "source": [
    "## Creating the Tensorboard Callback\n",
    "\n",
    "TensorBoard is a visualization tool provided with TensorFlow.\n",
    "\n",
    "This callback logs events for TensorBoard, including:\n",
    "* Metrics summary plots\n",
    "* Training graph visualization\n",
    "* Activation histograms\n",
    "* Sampled profiling\n",
    "\n",
    "If you have installed TensorFlow with pip, you should be able\n",
    "to launch TensorBoard from the command line:\n",
    "\n",
    "```sh\n",
    "tensorboard --logdir=path_to_your_logs\n",
    "```\n",
    "\n",
    "You can find more information about TensorBoard\n",
    "[here](https://www.tensorflow.org/tensorboard/).\n",
    "\n",
    "    Arguments:\n",
    "        log_dir: the path of the directory where to save the log files to be\n",
    "          parsed by TensorBoard.\n",
    "        histogram_freq: frequency (in epochs) at which to compute activation and\n",
    "          weight histograms for the layers of the model. If set to 0, histograms\n",
    "          won't be computed. Validation data (or split) must be specified for\n",
    "          histogram visualizations.\n",
    "        write_graph: whether to visualize the graph in TensorBoard. The log file\n",
    "          can become quite large when write_graph is set to True.\n",
    "        write_images: whether to write model weights to visualize as image in\n",
    "          TensorBoard.\n",
    "        update_freq: `'batch'` or `'epoch'` or integer. When using `'batch'`,\n",
    "          writes the losses and metrics to TensorBoard after each batch. The same\n",
    "          applies for `'epoch'`. If using an integer, let's say `1000`, the\n",
    "          callback will write the metrics and losses to TensorBoard every 1000\n",
    "          samples. Note that writing too frequently to TensorBoard can slow down\n",
    "          your training.\n",
    "        profile_batch: Profile the batch to sample compute characteristics. By\n",
    "          default, it will profile the second batch. Set profile_batch=0 to\n",
    "          disable profiling. Must run in TensorFlow eager mode.\n",
    "        embeddings_freq: frequency (in epochs) at which embedding layers will\n",
    "          be visualized. If set to 0, embeddings won't be visualized.\n",
    "       "
   ]
  },
  {
   "cell_type": "code",
   "execution_count": 14,
   "metadata": {},
   "outputs": [],
   "source": [
    "from datetime import datetime"
   ]
  },
  {
   "cell_type": "code",
   "execution_count": 15,
   "metadata": {},
   "outputs": [
    {
     "data": {
      "text/plain": [
       "'2020-10-13--0058'"
      ]
     },
     "execution_count": 15,
     "metadata": {},
     "output_type": "execute_result"
    }
   ],
   "source": [
    "datetime.now().strftime(\"%Y-%m-%d--%H%M\")"
   ]
  },
  {
   "cell_type": "code",
   "execution_count": 16,
   "metadata": {},
   "outputs": [],
   "source": [
    "# WINDOWS: Use \"logs\\\\fit\"\n",
    "# MACOS/LINUX: Use \"logs\\fit\"\n",
    "\n",
    "log_directory = 'logs\\\\fit'\n",
    "\n",
    "# OPTIONAL: ADD A TIMESTAMP FOR UNIQUE FOLDER\n",
    "# timestamp = datetime.now().strftime(\"%Y-%m-%d--%H%M\")\n",
    "# log_directory = log_directory + '\\\\' + timestamp\n",
    "\n",
    "\n",
    "board = TensorBoard(log_dir=log_directory,histogram_freq=1,\n",
    "    write_graph=True,\n",
    "    write_images=True,\n",
    "    update_freq='epoch',\n",
    "    profile_batch=2,\n",
    "    embeddings_freq=1)"
   ]
  },
  {
   "cell_type": "markdown",
   "metadata": {},
   "source": [
    "Now create the model layers:"
   ]
  },
  {
   "cell_type": "code",
   "execution_count": 17,
   "metadata": {},
   "outputs": [],
   "source": [
    "model = Sequential()\n",
    "model.add(Dense(units=30,activation='relu'))\n",
    "model.add(Dropout(0.5))\n",
    "model.add(Dense(units=15,activation='relu'))\n",
    "model.add(Dropout(0.5))\n",
    "model.add(Dense(units=1,activation='sigmoid'))\n",
    "model.compile(loss='binary_crossentropy', optimizer='adam')"
   ]
  },
  {
   "cell_type": "markdown",
   "metadata": {},
   "source": [
    "## Train the Model"
   ]
  },
  {
   "cell_type": "code",
   "execution_count": 18,
   "metadata": {},
   "outputs": [
    {
     "name": "stdout",
     "output_type": "stream",
     "text": [
      "Train on 426 samples, validate on 143 samples\n",
      "Epoch 1/600\n",
      " 32/426 [=>............................] - ETA: 8s - loss: 0.7261WARNING:tensorflow:Method (on_train_batch_end) is slow compared to the batch update (0.152307). Check your callbacks.\n",
      " 64/426 [===>..........................] - ETA: 4s - loss: 0.7791WARNING:tensorflow:Method (on_train_batch_end) is slow compared to the batch update (0.122192). Check your callbacks.\n",
      "426/426 [==============================] - 2s 4ms/sample - loss: 0.7452 - val_loss: 0.6844\n",
      "Epoch 2/600\n",
      "426/426 [==============================] - 0s 738us/sample - loss: 0.6841 - val_loss: 0.6600\n",
      "Epoch 3/600\n",
      "426/426 [==============================] - 0s 597us/sample - loss: 0.6712 - val_loss: 0.6406\n",
      "Epoch 4/600\n",
      "426/426 [==============================] - 0s 662us/sample - loss: 0.6475 - val_loss: 0.6224\n",
      "Epoch 5/600\n",
      "426/426 [==============================] - 0s 622us/sample - loss: 0.6271 - val_loss: 0.5971\n",
      "Epoch 6/600\n",
      "426/426 [==============================] - 0s 845us/sample - loss: 0.6190 - val_loss: 0.5723\n",
      "Epoch 7/600\n",
      "426/426 [==============================] - 0s 675us/sample - loss: 0.5913 - val_loss: 0.5467\n",
      "Epoch 8/600\n",
      "426/426 [==============================] - 0s 689us/sample - loss: 0.5744 - val_loss: 0.5138\n",
      "Epoch 9/600\n",
      "426/426 [==============================] - 0s 625us/sample - loss: 0.5329 - val_loss: 0.4713\n",
      "Epoch 10/600\n",
      "426/426 [==============================] - 0s 612us/sample - loss: 0.5215 - val_loss: 0.4352\n",
      "Epoch 11/600\n",
      "426/426 [==============================] - 0s 548us/sample - loss: 0.5133 - val_loss: 0.4095\n",
      "Epoch 12/600\n",
      "426/426 [==============================] - 0s 585us/sample - loss: 0.4881 - val_loss: 0.3870\n",
      "Epoch 13/600\n",
      "426/426 [==============================] - 0s 597us/sample - loss: 0.4467 - val_loss: 0.3565\n",
      "Epoch 14/600\n",
      "426/426 [==============================] - 0s 613us/sample - loss: 0.4230 - val_loss: 0.3292\n",
      "Epoch 15/600\n",
      "426/426 [==============================] - 0s 598us/sample - loss: 0.4120 - val_loss: 0.3007\n",
      "Epoch 16/600\n",
      "426/426 [==============================] - 0s 558us/sample - loss: 0.3939 - val_loss: 0.2794\n",
      "Epoch 17/600\n",
      "426/426 [==============================] - 0s 522us/sample - loss: 0.3758 - val_loss: 0.2593\n",
      "Epoch 18/600\n",
      "426/426 [==============================] - 0s 635us/sample - loss: 0.3593 - val_loss: 0.2516\n",
      "Epoch 19/600\n",
      "426/426 [==============================] - 0s 596us/sample - loss: 0.3426 - val_loss: 0.2378\n",
      "Epoch 20/600\n",
      "426/426 [==============================] - 0s 562us/sample - loss: 0.3130 - val_loss: 0.2201\n",
      "Epoch 21/600\n",
      "426/426 [==============================] - 0s 596us/sample - loss: 0.3181 - val_loss: 0.2066\n",
      "Epoch 22/600\n",
      "426/426 [==============================] - 0s 610us/sample - loss: 0.3018 - val_loss: 0.1988\n",
      "Epoch 23/600\n",
      "426/426 [==============================] - 0s 593us/sample - loss: 0.2977 - val_loss: 0.1882\n",
      "Epoch 24/600\n",
      "426/426 [==============================] - 0s 612us/sample - loss: 0.3060 - val_loss: 0.1841\n",
      "Epoch 25/600\n",
      "426/426 [==============================] - 0s 596us/sample - loss: 0.2825 - val_loss: 0.1824\n",
      "Epoch 26/600\n",
      "426/426 [==============================] - 0s 612us/sample - loss: 0.2834 - val_loss: 0.1722\n",
      "Epoch 27/600\n",
      "426/426 [==============================] - 0s 591us/sample - loss: 0.2513 - val_loss: 0.1774\n",
      "Epoch 28/600\n",
      "426/426 [==============================] - 0s 610us/sample - loss: 0.2565 - val_loss: 0.1591\n",
      "Epoch 29/600\n",
      "426/426 [==============================] - 0s 594us/sample - loss: 0.2409 - val_loss: 0.1475\n",
      "Epoch 30/600\n",
      "426/426 [==============================] - 0s 636us/sample - loss: 0.2358 - val_loss: 0.1478\n",
      "Epoch 31/600\n",
      "426/426 [==============================] - 0s 599us/sample - loss: 0.2502 - val_loss: 0.1423\n",
      "Epoch 32/600\n",
      "426/426 [==============================] - 0s 607us/sample - loss: 0.2402 - val_loss: 0.1387\n",
      "Epoch 33/600\n",
      "426/426 [==============================] - 0s 674us/sample - loss: 0.2150 - val_loss: 0.1344\n",
      "Epoch 34/600\n",
      "426/426 [==============================] - 0s 661us/sample - loss: 0.2430 - val_loss: 0.1385\n",
      "Epoch 35/600\n",
      "426/426 [==============================] - 0s 671us/sample - loss: 0.2294 - val_loss: 0.1308\n",
      "Epoch 36/600\n",
      "426/426 [==============================] - 0s 635us/sample - loss: 0.2016 - val_loss: 0.1263\n",
      "Epoch 37/600\n",
      "426/426 [==============================] - 0s 700us/sample - loss: 0.1948 - val_loss: 0.1397\n",
      "Epoch 38/600\n",
      "426/426 [==============================] - 0s 584us/sample - loss: 0.2127 - val_loss: 0.1200\n",
      "Epoch 39/600\n",
      "426/426 [==============================] - 0s 601us/sample - loss: 0.2018 - val_loss: 0.1197\n",
      "Epoch 40/600\n",
      "426/426 [==============================] - 0s 657us/sample - loss: 0.1955 - val_loss: 0.1159\n",
      "Epoch 41/600\n",
      "426/426 [==============================] - 0s 596us/sample - loss: 0.1756 - val_loss: 0.1157\n",
      "Epoch 42/600\n",
      "426/426 [==============================] - 0s 663us/sample - loss: 0.1849 - val_loss: 0.1189\n",
      "Epoch 43/600\n",
      "426/426 [==============================] - 0s 651us/sample - loss: 0.2167 - val_loss: 0.1137\n",
      "Epoch 44/600\n",
      "426/426 [==============================] - 0s 812us/sample - loss: 0.1654 - val_loss: 0.1250\n",
      "Epoch 45/600\n",
      "426/426 [==============================] - 0s 650us/sample - loss: 0.1718 - val_loss: 0.1086\n",
      "Epoch 46/600\n",
      "426/426 [==============================] - 0s 688us/sample - loss: 0.1654 - val_loss: 0.1058\n",
      "Epoch 47/600\n",
      "426/426 [==============================] - 0s 598us/sample - loss: 0.1579 - val_loss: 0.1078\n",
      "Epoch 48/600\n",
      "426/426 [==============================] - 0s 588us/sample - loss: 0.1871 - val_loss: 0.1043\n",
      "Epoch 49/600\n",
      "426/426 [==============================] - 0s 700us/sample - loss: 0.1597 - val_loss: 0.1063\n",
      "Epoch 50/600\n",
      "426/426 [==============================] - 0s 639us/sample - loss: 0.1624 - val_loss: 0.1115\n",
      "Epoch 51/600\n",
      "426/426 [==============================] - 0s 596us/sample - loss: 0.1449 - val_loss: 0.1014\n",
      "Epoch 52/600\n",
      "426/426 [==============================] - 0s 711us/sample - loss: 0.1625 - val_loss: 0.1003\n",
      "Epoch 53/600\n",
      "426/426 [==============================] - 0s 565us/sample - loss: 0.1534 - val_loss: 0.1052\n",
      "Epoch 54/600\n",
      "426/426 [==============================] - 0s 752us/sample - loss: 0.1464 - val_loss: 0.1040\n",
      "Epoch 55/600\n",
      "426/426 [==============================] - 0s 662us/sample - loss: 0.1438 - val_loss: 0.0969\n",
      "Epoch 56/600\n",
      "426/426 [==============================] - 0s 766us/sample - loss: 0.1489 - val_loss: 0.0991\n",
      "Epoch 57/600\n",
      "426/426 [==============================] - 0s 726us/sample - loss: 0.1300 - val_loss: 0.0931\n",
      "Epoch 58/600\n",
      "426/426 [==============================] - 0s 742us/sample - loss: 0.1483 - val_loss: 0.1020\n",
      "Epoch 59/600\n",
      "426/426 [==============================] - 0s 829us/sample - loss: 0.1229 - val_loss: 0.1062\n",
      "Epoch 60/600\n",
      "426/426 [==============================] - 0s 687us/sample - loss: 0.1529 - val_loss: 0.0923\n",
      "Epoch 61/600\n",
      "426/426 [==============================] - 0s 570us/sample - loss: 0.1465 - val_loss: 0.0952\n",
      "Epoch 62/600\n",
      "426/426 [==============================] - 0s 714us/sample - loss: 0.1517 - val_loss: 0.1061\n",
      "Epoch 63/600\n",
      "426/426 [==============================] - 0s 650us/sample - loss: 0.1301 - val_loss: 0.1044\n",
      "Epoch 64/600\n",
      "426/426 [==============================] - 0s 614us/sample - loss: 0.1404 - val_loss: 0.0926\n",
      "Epoch 65/600\n",
      "426/426 [==============================] - 0s 748us/sample - loss: 0.1369 - val_loss: 0.1006\n",
      "Epoch 66/600\n",
      "426/426 [==============================] - 0s 665us/sample - loss: 0.1373 - val_loss: 0.0951\n",
      "Epoch 67/600\n",
      "426/426 [==============================] - 0s 751us/sample - loss: 0.1300 - val_loss: 0.0915\n",
      "Epoch 68/600\n",
      "426/426 [==============================] - 0s 762us/sample - loss: 0.1319 - val_loss: 0.0975\n",
      "Epoch 69/600\n",
      "426/426 [==============================] - 0s 691us/sample - loss: 0.1132 - val_loss: 0.0916\n",
      "Epoch 70/600\n",
      "426/426 [==============================] - 0s 747us/sample - loss: 0.1391 - val_loss: 0.0998\n",
      "Epoch 71/600\n",
      "426/426 [==============================] - 0s 597us/sample - loss: 0.1319 - val_loss: 0.0926\n",
      "Epoch 72/600\n",
      "426/426 [==============================] - 0s 635us/sample - loss: 0.1206 - val_loss: 0.1008\n",
      "Epoch 73/600\n",
      "426/426 [==============================] - 0s 625us/sample - loss: 0.1351 - val_loss: 0.0894\n",
      "Epoch 74/600\n"
     ]
    },
    {
     "name": "stdout",
     "output_type": "stream",
     "text": [
      "426/426 [==============================] - 0s 691us/sample - loss: 0.1324 - val_loss: 0.0890\n",
      "Epoch 75/600\n",
      "426/426 [==============================] - 0s 648us/sample - loss: 0.1088 - val_loss: 0.0922\n",
      "Epoch 76/600\n",
      "426/426 [==============================] - 0s 662us/sample - loss: 0.1204 - val_loss: 0.0903\n",
      "Epoch 77/600\n",
      "426/426 [==============================] - 0s 777us/sample - loss: 0.1268 - val_loss: 0.0931\n",
      "Epoch 78/600\n",
      "426/426 [==============================] - 0s 662us/sample - loss: 0.1084 - val_loss: 0.1013\n",
      "Epoch 79/600\n",
      "426/426 [==============================] - 0s 648us/sample - loss: 0.1162 - val_loss: 0.0931\n",
      "Epoch 80/600\n",
      "426/426 [==============================] - 0s 739us/sample - loss: 0.1195 - val_loss: 0.0889\n",
      "Epoch 81/600\n",
      "426/426 [==============================] - 0s 625us/sample - loss: 0.1088 - val_loss: 0.0989\n",
      "Epoch 82/600\n",
      "426/426 [==============================] - 0s 768us/sample - loss: 0.1238 - val_loss: 0.0907\n",
      "Epoch 83/600\n",
      "426/426 [==============================] - 0s 776us/sample - loss: 0.1109 - val_loss: 0.0875\n",
      "Epoch 84/600\n",
      "426/426 [==============================] - 0s 690us/sample - loss: 0.1230 - val_loss: 0.0918\n",
      "Epoch 85/600\n",
      "426/426 [==============================] - 0s 855us/sample - loss: 0.0977 - val_loss: 0.1002\n",
      "Epoch 86/600\n",
      "426/426 [==============================] - 0s 613us/sample - loss: 0.0967 - val_loss: 0.0885\n",
      "Epoch 87/600\n",
      "426/426 [==============================] - 0s 570us/sample - loss: 0.1080 - val_loss: 0.0899\n",
      "Epoch 88/600\n",
      "426/426 [==============================] - 0s 609us/sample - loss: 0.0904 - val_loss: 0.0848\n",
      "Epoch 89/600\n",
      "426/426 [==============================] - 0s 547us/sample - loss: 0.1041 - val_loss: 0.0849\n",
      "Epoch 90/600\n",
      "426/426 [==============================] - 0s 613us/sample - loss: 0.1056 - val_loss: 0.1056\n",
      "Epoch 91/600\n",
      "426/426 [==============================] - 0s 631us/sample - loss: 0.1182 - val_loss: 0.0944\n",
      "Epoch 92/600\n",
      "426/426 [==============================] - 0s 681us/sample - loss: 0.1063 - val_loss: 0.0918\n",
      "Epoch 93/600\n",
      "426/426 [==============================] - 0s 573us/sample - loss: 0.1156 - val_loss: 0.0926\n",
      "Epoch 94/600\n",
      "426/426 [==============================] - 0s 535us/sample - loss: 0.0866 - val_loss: 0.0892\n",
      "Epoch 95/600\n",
      "426/426 [==============================] - 0s 545us/sample - loss: 0.1195 - val_loss: 0.0878\n",
      "Epoch 96/600\n",
      "426/426 [==============================] - 0s 583us/sample - loss: 0.0967 - val_loss: 0.1019\n",
      "Epoch 97/600\n",
      "426/426 [==============================] - 0s 750us/sample - loss: 0.1043 - val_loss: 0.0880\n",
      "Epoch 98/600\n",
      "426/426 [==============================] - 0s 688us/sample - loss: 0.1172 - val_loss: 0.0892\n",
      "Epoch 99/600\n",
      "426/426 [==============================] - 0s 572us/sample - loss: 0.0942 - val_loss: 0.1002\n",
      "Epoch 100/600\n",
      "426/426 [==============================] - 0s 610us/sample - loss: 0.0834 - val_loss: 0.0945\n",
      "Epoch 101/600\n",
      "426/426 [==============================] - 0s 623us/sample - loss: 0.1017 - val_loss: 0.0885\n",
      "Epoch 102/600\n",
      "426/426 [==============================] - 0s 585us/sample - loss: 0.1031 - val_loss: 0.1061\n",
      "Epoch 103/600\n",
      "426/426 [==============================] - 0s 624us/sample - loss: 0.1225 - val_loss: 0.0878\n",
      "Epoch 104/600\n",
      "426/426 [==============================] - 0s 663us/sample - loss: 0.1130 - val_loss: 0.0886\n",
      "Epoch 105/600\n",
      "426/426 [==============================] - 0s 647us/sample - loss: 0.0949 - val_loss: 0.1167\n",
      "Epoch 106/600\n",
      "426/426 [==============================] - 0s 613us/sample - loss: 0.1130 - val_loss: 0.0931\n",
      "Epoch 107/600\n",
      "426/426 [==============================] - 0s 652us/sample - loss: 0.1088 - val_loss: 0.0902\n",
      "Epoch 108/600\n",
      "426/426 [==============================] - 0s 635us/sample - loss: 0.0924 - val_loss: 0.0946\n",
      "Epoch 109/600\n",
      "426/426 [==============================] - 0s 570us/sample - loss: 0.0977 - val_loss: 0.0924\n",
      "Epoch 110/600\n",
      "426/426 [==============================] - 0s 691us/sample - loss: 0.0955 - val_loss: 0.0894\n",
      "Epoch 111/600\n",
      "426/426 [==============================] - 0s 570us/sample - loss: 0.1021 - val_loss: 0.1004\n",
      "Epoch 112/600\n",
      "426/426 [==============================] - 0s 613us/sample - loss: 0.0933 - val_loss: 0.0919\n",
      "Epoch 113/600\n",
      "426/426 [==============================] - 0s 596us/sample - loss: 0.0907 - val_loss: 0.0931\n",
      "Epoch 00113: early stopping\n"
     ]
    },
    {
     "data": {
      "text/plain": [
       "<tensorflow.python.keras.callbacks.History at 0x1faca966d68>"
      ]
     },
     "execution_count": 18,
     "metadata": {},
     "output_type": "execute_result"
    }
   ],
   "source": [
    "model.fit(x=X_train, \n",
    "          y=y_train, \n",
    "          epochs=600,\n",
    "          validation_data=(X_test, y_test), verbose=1,\n",
    "          callbacks=[early_stop,board]\n",
    "          )"
   ]
  },
  {
   "cell_type": "markdown",
   "metadata": {},
   "source": [
    "# Running Tensorboard\n"
   ]
  },
  {
   "cell_type": "markdown",
   "metadata": {},
   "source": [
    "## Running through the Command Line\n",
    "\n",
    "**Watch video to see how to run Tensorboard through a command line call.**"
   ]
  },
  {
   "cell_type": "markdown",
   "metadata": {},
   "source": [
    "Tensorboard will run locally in your browser at [http://localhost:6006/](http://localhost:6006/)\n"
   ]
  },
  {
   "cell_type": "code",
   "execution_count": 19,
   "metadata": {},
   "outputs": [
    {
     "name": "stdout",
     "output_type": "stream",
     "text": [
      "logs\\fit\n"
     ]
    }
   ],
   "source": [
    "print(log_directory)"
   ]
  },
  {
   "cell_type": "code",
   "execution_count": 20,
   "metadata": {},
   "outputs": [
    {
     "data": {
      "text/plain": [
       "'D:\\\\Project\\\\Python\\\\Refactored_Py_DS_ML_Bootcamp-master\\\\TensorFlow_FILES\\\\ANNs'"
      ]
     },
     "execution_count": 20,
     "metadata": {},
     "output_type": "execute_result"
    }
   ],
   "source": [
    "pwd"
   ]
  },
  {
   "cell_type": "markdown",
   "metadata": {},
   "source": [
    "### Use cd at your command line to change directory to the file path reported back by pwd or your current .py file location.\n",
    "### Then run this code at your command line or terminal"
   ]
  },
  {
   "cell_type": "code",
   "execution_count": null,
   "metadata": {},
   "outputs": [],
   "source": [
    "tensorboard --logdir logs\\fit "
   ]
  }
 ],
 "metadata": {
  "kernelspec": {
   "display_name": "Python 3",
   "language": "python",
   "name": "python3"
  },
  "language_info": {
   "codemirror_mode": {
    "name": "ipython",
    "version": 3
   },
   "file_extension": ".py",
   "mimetype": "text/x-python",
   "name": "python",
   "nbconvert_exporter": "python",
   "pygments_lexer": "ipython3",
   "version": "3.6.10"
  }
 },
 "nbformat": 4,
 "nbformat_minor": 2
}
